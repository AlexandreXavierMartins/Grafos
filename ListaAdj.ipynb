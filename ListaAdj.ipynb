{
  "nbformat": 4,
  "nbformat_minor": 0,
  "metadata": {
    "colab": {
      "provenance": [],
      "authorship_tag": "ABX9TyPkCSHxp9BHfGeqo2E0baHt",
      "include_colab_link": true
    },
    "kernelspec": {
      "name": "python3",
      "display_name": "Python 3"
    },
    "language_info": {
      "name": "python"
    }
  },
  "cells": [
    {
      "cell_type": "markdown",
      "metadata": {
        "id": "view-in-github",
        "colab_type": "text"
      },
      "source": [
        "<a href=\"https://colab.research.google.com/github/AlexandreXavierMartins/Grafos/blob/main/ListaAdj.ipynb\" target=\"_parent\"><img src=\"https://colab.research.google.com/assets/colab-badge.svg\" alt=\"Open In Colab\"/></a>"
      ]
    },
    {
      "cell_type": "code",
      "source": [
        "#Dados de entrada\n",
        "arquivo = ([0, 1], [0, 3], \n",
        "           [1, 2], [1, 3],\n",
        "           [2, 3]) #Arquivo com as Arestas\n",
        "n = 4 #Número de vértices\n",
        "\n",
        "#Cria a Lista \n",
        "Lista_adj = []\n",
        "for i in range(n):\n",
        "  Lista_adj.append([])\n",
        "print('Início')\n",
        "print(Lista_adj)\n",
        "\n",
        "#Carrega a lista\n",
        "for (i, j) in arquivo:\n",
        "  Lista_adj[i].append(j)\n",
        "  Lista_adj[j].append(i)\n",
        "\n",
        "print('Fim')\n",
        "print(Lista_adj)\n",
        "#Imprimindo cada elemento\n",
        "for i in range(n):\n",
        "  print('Vértice ', i,'-> ', end=\"\")\n",
        "  for j in range(len(Lista_adj[i])):\n",
        "    print(Lista_adj[i][j], \" - \", end=\"\")\n",
        "  print(\" \")\n",
        "\n"
      ],
      "metadata": {
        "colab": {
          "base_uri": "https://localhost:8080/"
        },
        "id": "IkqcvUXhvnjP",
        "outputId": "acfd3076-a108-46cd-97ce-0ec4373034bb"
      },
      "execution_count": 21,
      "outputs": [
        {
          "output_type": "stream",
          "name": "stdout",
          "text": [
            "Início\n",
            "[[], [], [], []]\n",
            "Fim\n",
            "[[1, 3], [0, 2, 3], [1, 3], [0, 1, 2]]\n",
            "Vértice  0 -> 1  - 3  -  \n",
            "Vértice  1 -> 0  - 2  - 3  -  \n",
            "Vértice  2 -> 1  - 3  -  \n",
            "Vértice  3 -> 0  - 1  - 2  -  \n"
          ]
        }
      ]
    }
  ]
}