{
  "nbformat": 4,
  "nbformat_minor": 0,
  "metadata": {
    "colab": {
      "provenance": [],
      "authorship_tag": "ABX9TyM36b+BS1sJDjYSnB/2ZZo3",
      "include_colab_link": true
    },
    "kernelspec": {
      "name": "python3",
      "display_name": "Python 3"
    },
    "language_info": {
      "name": "python"
    }
  },
  "cells": [
    {
      "cell_type": "markdown",
      "metadata": {
        "id": "view-in-github",
        "colab_type": "text"
      },
      "source": [
        "<a href=\"https://colab.research.google.com/github/AlexandreXavierMartins/Grafos/blob/main/Gabarito_Aula_Busca_Local.ipynb\" target=\"_parent\"><img src=\"https://colab.research.google.com/assets/colab-badge.svg\" alt=\"Open In Colab\"/></a>"
      ]
    },
    {
      "cell_type": "code",
      "execution_count": null,
      "metadata": {
        "colab": {
          "base_uri": "https://localhost:8080/"
        },
        "id": "GLsRQj9CjKvN",
        "outputId": "1575311f-b230-4370-9770-36c04846b449"
      },
      "outputs": [
        {
          "output_type": "stream",
          "name": "stdout",
          "text": [
            "-11\n"
          ]
        }
      ],
      "source": [
        "#Exercício 1\n",
        "def get_fo(sol, beneficio, peso, cap, pena):\n",
        "  fo = 0\n",
        "  peso_total = 0\n",
        "  for i in range(len(sol)):\n",
        "    if sol[i] == 1:\n",
        "      fo += beneficio[i]\n",
        "      peso_total += peso[i]\n",
        "  if peso_total > cap:\n",
        "    fo -= pena*(peso_total - cap)\n",
        "  return fo\n",
        "\n",
        "\n",
        "#DADOS DO PROBLEMA-------------------#\n",
        "n = 8 #Quantidade de objetos\n",
        "beneficio = [4, 3, 2, 6, 2, 3, 5, 4]\n",
        "peso =      [5, 4, 3, 9, 4, 2, 6, 7]\n",
        "cap = 20 #Capacidade da mochila\n",
        "#------------------------------------#\n",
        "#------------------------------------#\n",
        "sol = n*[1] #Vetor para guardar a solução\n",
        "\n",
        "fo = get_fo(sol, beneficio, peso, cap, 2) #Função objetivo\n",
        "\n",
        "print(fo)\n"
      ]
    },
    {
      "cell_type": "code",
      "source": [
        "import math\n",
        "\n",
        "#Exercício 2 a)\n",
        "def get_fo(sol, beneficio, peso, cap, pena):\n",
        "  fo = 0\n",
        "  peso_total = 0\n",
        "  for i in range(len(sol)):\n",
        "    if sol[i] == 1:\n",
        "      fo += beneficio[i]\n",
        "      peso_total += peso[i]\n",
        "  if peso_total > cap:\n",
        "    fo -= pena*(peso_total - cap)\n",
        "  return fo\n",
        "\n",
        "def melhor_vizinho(sol, beneficio, peso, cap, pena):\n",
        "  best = -math.inf\n",
        "  for i in range(len(sol)):\n",
        "    sol[i] = 1 - sol[i] #troca o bit\n",
        "    nfo = get_fo(sol, beneficio, peso, cap, pena)\n",
        "    if nfo > best:\n",
        "      best = nfo #Guarda o melhor valor\n",
        "      bi = i\n",
        "    sol[i] = 1 - sol[i] #volta ao estado anterior\n",
        "  return best, bi\n",
        "\n",
        "#DADOS DO PROBLEMA-------------------#\n",
        "n = 8 #Quantidade de objetos\n",
        "beneficio = [4, 3, 2, 6, 2, 3, 5, 4]\n",
        "peso =      [5, 4, 3, 9, 4, 2, 6, 7]\n",
        "cap = 20 #Capacidade da mochila\n",
        "#------------------------------------#\n",
        "#------------------------------------#\n",
        "sol = [0, 1, 0, 0, 1, 0, 0, 0] #Vetor para guardar a solução\n",
        "\n",
        "\n",
        "fo = get_fo(sol, beneficio, peso, cap, 2) #Função objetivo\n",
        "print('Solução inicial', fo)\n",
        "nfo, bi = melhor_vizinho(sol, beneficio, peso, cap, 2)\n",
        "if nfo > fo:\n",
        "  print('Melhor vizinho trocando bit', bi,',com FO =', nfo)\n",
        "else:\n",
        "  print('Ótimo Local')\n",
        "\n",
        "\n"
      ],
      "metadata": {
        "colab": {
          "base_uri": "https://localhost:8080/"
        },
        "id": "fNCmjzOJkPQ5",
        "outputId": "892f3b02-a80e-49a2-f8a0-0b3b3b895b3b"
      },
      "execution_count": null,
      "outputs": [
        {
          "output_type": "stream",
          "name": "stdout",
          "text": [
            "Solução inicial 14\n",
            "Ótimo Local\n"
          ]
        }
      ]
    },
    {
      "cell_type": "code",
      "source": [
        "import math\n",
        "\n",
        "#Exercício 2 b)\n",
        "def get_fo(sol, beneficio, peso, cap, pena):\n",
        "  fo = 0\n",
        "  peso_total = 0\n",
        "  for i in range(len(sol)):\n",
        "    if sol[i] == 1:\n",
        "      fo += beneficio[i]\n",
        "      peso_total += peso[i]\n",
        "  if peso_total > cap:\n",
        "    fo -= pena*(peso_total - cap)\n",
        "  return fo\n",
        "\n",
        "def melhor_vizinho(sol, beneficio, peso, cap, pena):\n",
        "  best = -math.inf\n",
        "  for i in range(len(sol)):\n",
        "    sol[i] = 1 - sol[i] #troca o bit\n",
        "    nfo = get_fo(sol, beneficio, peso, cap, pena)\n",
        "    if nfo > best:\n",
        "      best = nfo #Guarda o melhor valor\n",
        "      bi = i\n",
        "    sol[i] = 1 - sol[i] #volta ao estado anterior\n",
        "  return best, bi\n",
        "\n",
        "def busca_local(sol, beneficio, peso, cap, pena):\n",
        "  fo = get_fo(sol, beneficio, peso, cap, pena)\n",
        "  while True:\n",
        "    nfo, bi = melhor_vizinho(sol, beneficio, peso, cap, pena)\n",
        "    if nfo > fo:\n",
        "      fo = nfo\n",
        "      sol[bi] = 1 - sol[bi]\n",
        "      print('Melhor vizinho trocando bit', bi,',com FO =', nfo)\n",
        "    else:\n",
        "      print('Ótimo Local')\n",
        "      print('FO =', fo)\n",
        "      print('Solução', sol)\n",
        "      break\n",
        "#DADOS DO PROBLEMA-------------------#\n",
        "n = 8 #Quantidade de objetos\n",
        "beneficio = [4, 3, 2, 6, 2, 3, 5, 4]\n",
        "peso =      [5, 4, 3, 9, 4, 2, 6, 7]\n",
        "cap = 20 #Capacidade da mochila\n",
        "#------------------------------------#\n",
        "#------------------------------------#\n",
        "sol = [0, 1, 0, 0, 1, 0, 0, 0] #Vetor para guardar a solução\n",
        "pena = 2\n",
        "\n",
        "busca_local(sol, beneficio, peso, cap, pena)\n",
        "\n"
      ],
      "metadata": {
        "colab": {
          "base_uri": "https://localhost:8080/"
        },
        "id": "k88X1osnmWC2",
        "outputId": "a1ea713b-89be-46c5-c214-79f30058fda9"
      },
      "execution_count": null,
      "outputs": [
        {
          "output_type": "stream",
          "name": "stdout",
          "text": [
            "Melhor vizinho trocando bit 3 ,com FO = 11\n",
            "Melhor vizinho trocando bit 5 ,com FO = 14\n",
            "Ótimo Local\n",
            "FO = 14\n",
            "Solução [0, 1, 0, 1, 1, 1, 0, 0]\n"
          ]
        }
      ]
    },
    {
      "cell_type": "code",
      "source": [
        "#Exercício 3 a)\n",
        "\n",
        "import math\n",
        "inf = math.inf\n",
        "\n",
        "def calcula_fo(sol):\n",
        "  fo = 0\n",
        "  for i in range(1, len(sol)):\n",
        "    fo = fo + tempos[sol[i]][sol[i-1]]\n",
        "  return fo\n",
        "\n",
        "def melhor_vizinho(sol, tempos):\n",
        "  best = inf\n",
        "  for i in range(1, len(sol)-1):\n",
        "    for j in range(i+1, len(sol)):\n",
        "      sol[i], sol[j] = sol[j], sol[i] #troca\n",
        "      nfo = calcula_fo(sol)\n",
        "      if nfo < best:\n",
        "        best = nfo\n",
        "        bi = i\n",
        "        bj = j\n",
        "      sol[i], sol[j] = sol[j], sol[i] #destroca\n",
        "  return best, bi, bj\n",
        "\n",
        "\n",
        "tempos =  [\n",
        "           [inf, inf, inf, inf, inf, inf, inf, inf],\n",
        "           [5, inf, 3, 9, 4, 2, 6, 7],\n",
        "           [3, 3, inf, 6, 2, 3, 5, 4],\n",
        "           [4, 9, 6, inf, 7, 2, 6, 1],\n",
        "           [7, 4, 2, 7, inf, 4, 8, 2],\n",
        "           [2, 2, 3, 3, 4, inf, 1, 3],\n",
        "           [1, 6, 5, 5, 8, 1, inf, 5],\n",
        "           [3, 7, 4, 1, 2, 3, 5, inf]\n",
        "           ]\n",
        "#print(tempos)\n",
        "sol = [0, 1, 2, 3, 4, 5, 6, 7]\n",
        "#sol = [0, 6, 2, 4, 7, 3, 5, 1]\n",
        "fo = calcula_fo(sol)\n",
        "print('Solução inicial =',fo)\n",
        "nfo, bi, bj = melhor_vizinho(sol, tempos)\n",
        "if nfo < fo:\n",
        "  print('Melhor vizinho trocando tarefas', sol[bi], 'e', sol[bj],',com FO =', nfo)\n",
        "else:\n",
        "  print('Ótimo Local')\n"
      ],
      "metadata": {
        "colab": {
          "base_uri": "https://localhost:8080/"
        },
        "id": "ZUs0qur4pmSi",
        "outputId": "84208e11-4ddf-4c88-d3bb-e448f6cbb0e7"
      },
      "execution_count": 17,
      "outputs": [
        {
          "output_type": "stream",
          "name": "stdout",
          "text": [
            "Solução inicial = 16\n",
            "Ótimo Local\n"
          ]
        }
      ]
    },
    {
      "cell_type": "code",
      "source": [
        "#Exercício 3 a)\n",
        "\n",
        "import math\n",
        "inf = math.inf\n",
        "\n",
        "def calcula_fo(sol):\n",
        "  fo = 0\n",
        "  for i in range(1, len(sol)):\n",
        "    fo = fo + tempos[sol[i]][sol[i-1]]\n",
        "  return fo\n",
        "\n",
        "def melhor_vizinho(sol, tempos):\n",
        "  best = inf\n",
        "  for i in range(1, len(sol)-1):\n",
        "    for j in range(i+1, len(sol)):\n",
        "      sol[i], sol[j] = sol[j], sol[i] #troca\n",
        "      nfo = calcula_fo(sol)\n",
        "      if nfo < best:\n",
        "        best = nfo\n",
        "        bi = i\n",
        "        bj = j\n",
        "      sol[i], sol[j] = sol[j], sol[i] #destroca\n",
        "  return best, bi, bj\n",
        "\n",
        "def busca_local(sol, tempos, fo):\n",
        "  while True:\n",
        "    nfo, bi, bj = melhor_vizinho(sol, tempos)\n",
        "    if nfo < fo:\n",
        "      fo = nfo\n",
        "      sol[bi], sol[bj] = sol[bj], sol[bi]\n",
        "      print('Melhor vizinho trocando tarefas', sol[bi], 'e', sol[bj],',com FO =', nfo)\n",
        "    else:\n",
        "      print('Ótimo Local')\n",
        "      print('FO =', fo)\n",
        "      print('Solução', sol)\n",
        "      break\n",
        "\n",
        "\n",
        "\n",
        "tempos =  [\n",
        "           [inf, inf, inf, inf, inf, inf, inf, inf],\n",
        "           [5, inf, 3, 9, 4, 2, 6, 7],\n",
        "           [3, 3, inf, 6, 2, 3, 5, 4],\n",
        "           [4, 9, 6, inf, 7, 2, 6, 1],\n",
        "           [7, 4, 2, 7, inf, 4, 8, 2],\n",
        "           [2, 2, 3, 3, 4, inf, 1, 3],\n",
        "           [1, 6, 5, 5, 8, 1, inf, 5],\n",
        "           [3, 7, 4, 1, 2, 3, 5, inf]\n",
        "           ]\n",
        "#print(tempos)\n",
        "sol = [0, 1, 2, 3, 4, 5, 6, 7]\n",
        "#sol = [0, 6, 2, 4, 7, 3, 5, 1]\n",
        "fo = calcula_fo(sol)\n",
        "print('Solução inicial =',fo)\n",
        "busca_local(sol, tempos, fo)"
      ],
      "metadata": {
        "colab": {
          "base_uri": "https://localhost:8080/"
        },
        "id": "TCZGJbEtsJ2M",
        "outputId": "959403cf-ebb4-430b-b4ea-bc9235b178fd"
      },
      "execution_count": 18,
      "outputs": [
        {
          "output_type": "stream",
          "name": "stdout",
          "text": [
            "Solução inicial = 31\n",
            "Melhor vizinho trocando tarefas 7 e 3 ,com FO = 25\n",
            "Melhor vizinho trocando tarefas 4 e 7 ,com FO = 22\n",
            "Melhor vizinho trocando tarefas 3 e 5 ,com FO = 19\n",
            "Melhor vizinho trocando tarefas 5 e 6 ,com FO = 17\n",
            "Melhor vizinho trocando tarefas 6 e 1 ,com FO = 16\n",
            "Ótimo Local\n",
            "FO = 16\n",
            "Solução [0, 6, 2, 4, 7, 3, 5, 1]\n"
          ]
        }
      ]
    }
  ]
}